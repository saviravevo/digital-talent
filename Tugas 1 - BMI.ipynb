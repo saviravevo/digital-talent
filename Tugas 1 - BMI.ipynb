{
 "cells": [
  {
   "cell_type": "markdown",
   "metadata": {},
   "source": [
    "Memasukkan nilai berat dan tinggi (berat dalam satuan kilogram/kg, tinggi dalam satuan centimeter/cm)"
   ]
  },
  {
   "cell_type": "code",
   "execution_count": 14,
   "metadata": {},
   "outputs": [],
   "source": [
    "#Masukkan berat (dalam kilogram) dan tinggi dalam cm\n",
    "berat = 42\n",
    "tinggi = 155"
   ]
  },
  {
   "cell_type": "markdown",
   "metadata": {},
   "source": [
    "Konversi tinggi dari centimeter ke meter"
   ]
  },
  {
   "cell_type": "code",
   "execution_count": 15,
   "metadata": {},
   "outputs": [
    {
     "name": "stdout",
     "output_type": "stream",
     "text": [
      "tinggi dalam satuan meter : 1.55 m\n"
     ]
    }
   ],
   "source": [
    "tinggi_m = tinggi/100\n",
    "print(\"tinggi dalam satuan meter :\", tinggi_m, \"m\")"
   ]
  },
  {
   "cell_type": "markdown",
   "metadata": {},
   "source": [
    "Rumus menghitung bmi"
   ]
  },
  {
   "cell_type": "code",
   "execution_count": 16,
   "metadata": {},
   "outputs": [
    {
     "name": "stdout",
     "output_type": "stream",
     "text": [
      "bmi : 17.48178980228928\n"
     ]
    }
   ],
   "source": [
    "#menghitung bmi\n",
    "bmi = berat/(tinggi_m**2)\n",
    "print(\"bmi :\", bmi)"
   ]
  },
  {
   "cell_type": "markdown",
   "metadata": {},
   "source": [
    "Menampilkan nilai bmi dan kategorinya berdasarkan input berat dan tinggi"
   ]
  },
  {
   "cell_type": "code",
   "execution_count": 22,
   "metadata": {},
   "outputs": [
    {
     "name": "stdout",
     "output_type": "stream",
     "text": [
      "Dengan berat sebesar 42 kg dan tinggi senilai 155 cm\n",
      "________________________________________________________\n",
      "Nilai BMI anda adalah : 22.22222222222222\n",
      "dengan kategori :\n",
      "Normal\n",
      "_________________________________________________________\n"
     ]
    }
   ],
   "source": [
    "print(\"Dengan berat sebesar\", berat , \"kg dan tinggi senilai\", tinggi, \"cm\")\n",
    "print(\"________________________________________________________\")\n",
    "print(\"Nilai BMI anda adalah :\", bmi)\n",
    "print(\"dengan kategori :\")\n",
    "#indeks bmi berdasarkan nilai bmi\n",
    "if bmi < 15:\n",
    "    print(\"Very severely underweight\")\n",
    "elif 15 <= bmi < 16 :\n",
    "    print(\"Severely underweight\")\n",
    "elif 16 <= bmi < 18.5 :\n",
    "    print(\"Underweight\")\n",
    "elif 18.5 <= bmi < 25 :\n",
    "    print(\"Normal\")\n",
    "elif 25 <= bmi < 30 :\n",
    "    print(\"Overweight\")\n",
    "elif 30 <= bmi < 35 :\n",
    "    print(\"Moderately obese\")\n",
    "elif 35 <= bmi < 40 :\n",
    "    print(\"Severely obese\")\n",
    "else:\n",
    "    print(\"Very severely obese\")\n",
    "\n",
    "print(\"_________________________________________________________\")"
   ]
  },
  {
   "cell_type": "markdown",
   "metadata": {},
   "source": [
    "Jika dijadikan dalam satu code :"
   ]
  },
  {
   "cell_type": "code",
   "execution_count": 23,
   "metadata": {},
   "outputs": [
    {
     "name": "stdout",
     "output_type": "stream",
     "text": [
      "normal\n"
     ]
    }
   ],
   "source": [
    "#Masukkan berat (dalam kilogram) dan tinggi dalam cm\n",
    "berat_kg = 50\n",
    "tinggi_cm = 150\n",
    "\n",
    "#menghitung bmi\n",
    "bmi = berat_kg/((tinggi_cm/100)**2)\n",
    "\n",
    "#indeks bmi berdasarkan nilai bmi\n",
    "if bmi < 15:\n",
    "    print(\"Very severely underweight\")\n",
    "elif 15 <= bmi < 16 :\n",
    "    print(\"Severely underweight\")\n",
    "elif 16 <= bmi < 18.5 :\n",
    "    print(\"underweight\")\n",
    "elif 18.5 <= bmi < 25 :\n",
    "    print(\"normal\")\n",
    "elif 25 <= bmi < 30 :\n",
    "    print(\"overweight\")\n",
    "elif 30 <= bmi < 35 :\n",
    "    print(\"moderately obese\")\n",
    "elif 35 <= bmi < 40 :\n",
    "    print(\"severely obese\")\n",
    "else:\n",
    "    print(\"very severely obese\")"
   ]
  },
  {
   "cell_type": "code",
   "execution_count": null,
   "metadata": {},
   "outputs": [],
   "source": []
  }
 ],
 "metadata": {
  "kernelspec": {
   "display_name": "Python 3",
   "language": "python",
   "name": "python3"
  },
  "language_info": {
   "codemirror_mode": {
    "name": "ipython",
    "version": 3
   },
   "file_extension": ".py",
   "mimetype": "text/x-python",
   "name": "python",
   "nbconvert_exporter": "python",
   "pygments_lexer": "ipython3",
   "version": "3.6.4"
  }
 },
 "nbformat": 4,
 "nbformat_minor": 2
}
