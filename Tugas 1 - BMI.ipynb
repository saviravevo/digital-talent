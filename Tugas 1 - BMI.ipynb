{
 "cells": [
  {
   "cell_type": "code",
   "execution_count": 4,
   "metadata": {},
   "outputs": [
    {
     "name": "stdout",
     "output_type": "stream",
     "text": [
      "normal\n"
     ]
    }
   ],
   "source": [
    "#Masukkan berat (dalam kilogram) dan tinggi dalam cm\n",
    "berat_kg = 50\n",
    "tinggi_cm = 150\n",
    "\n",
    "#menghitung bmi\n",
    "bmi = berat_kg/((tinggi_cm/100)**2)\n",
    "\n",
    "#indeks bmi berdasarkan nilai bmi\n",
    "if bmi < 15:\n",
    "    print(\"Very severely underweight\")\n",
    "elif 15 <= bmi < 16 :\n",
    "    print(\"Severely underweight\")\n",
    "elif 16 <= bmi < 18.5 :\n",
    "    print(\"underweight\")\n",
    "elif 18.5 <= bmi < 25 :\n",
    "    print(\"normal\")\n",
    "elif 25 <= bmi < 30 :\n",
    "    print(\"overweight\")\n",
    "elif 30 <= bmi < 35 :\n",
    "    print(\"moderately obese\")\n",
    "elif 35 <= bmi < 40 :\n",
    "    print(\"severely obese\")\n",
    "else:\n",
    "    print(\"very severely obese\")"
   ]
  },
  {
   "cell_type": "code",
   "execution_count": null,
   "metadata": {},
   "outputs": [],
   "source": []
  }
 ],
 "metadata": {
  "kernelspec": {
   "display_name": "Python 3",
   "language": "python",
   "name": "python3"
  },
  "language_info": {
   "codemirror_mode": {
    "name": "ipython",
    "version": 3
   },
   "file_extension": ".py",
   "mimetype": "text/x-python",
   "name": "python",
   "nbconvert_exporter": "python",
   "pygments_lexer": "ipython3",
   "version": "3.6.4"
  }
 },
 "nbformat": 4,
 "nbformat_minor": 2
}
