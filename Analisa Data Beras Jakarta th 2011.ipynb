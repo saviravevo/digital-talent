{
 "cells": [
  {
   "cell_type": "code",
   "execution_count": 1,
   "metadata": {},
   "outputs": [],
   "source": [
    "import pandas as pd\n",
    "\n",
    "# membuka file\n",
    "data = pd.read_csv(\"berasjkt.csv\")"
   ]
  },
  {
   "cell_type": "code",
   "execution_count": 2,
   "metadata": {},
   "outputs": [
    {
     "data": {
      "text/html": [
       "<div>\n",
       "<style scoped>\n",
       "    .dataframe tbody tr th:only-of-type {\n",
       "        vertical-align: middle;\n",
       "    }\n",
       "\n",
       "    .dataframe tbody tr th {\n",
       "        vertical-align: top;\n",
       "    }\n",
       "\n",
       "    .dataframe thead th {\n",
       "        text-align: right;\n",
       "    }\n",
       "</style>\n",
       "<table border=\"1\" class=\"dataframe\">\n",
       "  <thead>\n",
       "    <tr style=\"text-align: right;\">\n",
       "      <th></th>\n",
       "      <th>tahun</th>\n",
       "      <th>bulan</th>\n",
       "      <th>jenis_beras</th>\n",
       "      <th>harga</th>\n",
       "    </tr>\n",
       "  </thead>\n",
       "  <tbody>\n",
       "    <tr>\n",
       "      <th>0</th>\n",
       "      <td>2011</td>\n",
       "      <td>Januari</td>\n",
       "      <td>Cianjur Kepala</td>\n",
       "      <td>10435</td>\n",
       "    </tr>\n",
       "    <tr>\n",
       "      <th>1</th>\n",
       "      <td>2011</td>\n",
       "      <td>Februari</td>\n",
       "      <td>Cianjur Kepala</td>\n",
       "      <td>10597</td>\n",
       "    </tr>\n",
       "    <tr>\n",
       "      <th>2</th>\n",
       "      <td>2011</td>\n",
       "      <td>Maret</td>\n",
       "      <td>Cianjur Kepala</td>\n",
       "      <td>10558</td>\n",
       "    </tr>\n",
       "    <tr>\n",
       "      <th>3</th>\n",
       "      <td>2011</td>\n",
       "      <td>April</td>\n",
       "      <td>Cianjur Kepala</td>\n",
       "      <td>10639</td>\n",
       "    </tr>\n",
       "    <tr>\n",
       "      <th>4</th>\n",
       "      <td>2011</td>\n",
       "      <td>Mei</td>\n",
       "      <td>Cianjur Kepala</td>\n",
       "      <td>10603</td>\n",
       "    </tr>\n",
       "  </tbody>\n",
       "</table>\n",
       "</div>"
      ],
      "text/plain": [
       "   tahun     bulan     jenis_beras  harga\n",
       "0   2011   Januari  Cianjur Kepala  10435\n",
       "1   2011  Februari  Cianjur Kepala  10597\n",
       "2   2011     Maret  Cianjur Kepala  10558\n",
       "3   2011     April  Cianjur Kepala  10639\n",
       "4   2011       Mei  Cianjur Kepala  10603"
      ]
     },
     "execution_count": 2,
     "metadata": {},
     "output_type": "execute_result"
    }
   ],
   "source": [
    "data.head()"
   ]
  },
  {
   "cell_type": "code",
   "execution_count": 3,
   "metadata": {},
   "outputs": [
    {
     "data": {
      "text/plain": [
       "(156, 4)"
      ]
     },
     "execution_count": 3,
     "metadata": {},
     "output_type": "execute_result"
    }
   ],
   "source": [
    "data.shape"
   ]
  },
  {
   "cell_type": "code",
   "execution_count": 4,
   "metadata": {},
   "outputs": [
    {
     "data": {
      "text/plain": [
       "Index(['tahun', 'bulan', 'jenis_beras', 'harga'], dtype='object')"
      ]
     },
     "execution_count": 4,
     "metadata": {},
     "output_type": "execute_result"
    }
   ],
   "source": [
    "data.columns"
   ]
  },
  {
   "cell_type": "code",
   "execution_count": 5,
   "metadata": {},
   "outputs": [
    {
     "data": {
      "text/plain": [
       "tahun           int64\n",
       "bulan          object\n",
       "jenis_beras    object\n",
       "harga           int64\n",
       "dtype: object"
      ]
     },
     "execution_count": 5,
     "metadata": {},
     "output_type": "execute_result"
    }
   ],
   "source": [
    "data.dtypes"
   ]
  },
  {
   "cell_type": "markdown",
   "metadata": {},
   "source": [
    "# Deskripsi"
   ]
  },
  {
   "cell_type": "markdown",
   "metadata": {},
   "source": [
    "Data csv berisi daftar harga berbagai jenis beras di Jakarta pada tahun 2011 mulai dari bulan Januari hingga Desember. \n",
    "\n",
    "Dengan dimensi 156 baris x 4 kolom\n",
    "\n",
    "Dengan kolom :\n",
    "- tahun\n",
    "- bulan\n",
    "- jenis_beras\n",
    "- harga\n",
    "\n",
    "jenis tipe datanya adalah :\n",
    "- tahun : int\n",
    "- bulan : string\n",
    "- jenis_beras : string\n",
    "- harga : int"
   ]
  },
  {
   "cell_type": "markdown",
   "metadata": {},
   "source": [
    "# Statistik"
   ]
  },
  {
   "cell_type": "code",
   "execution_count": 6,
   "metadata": {},
   "outputs": [
    {
     "name": "stdout",
     "output_type": "stream",
     "text": [
      "rata-rata harga seluruh jenis beras : 8992.628205128205\n",
      "harga beras termahal tahun 2011: 12823\n",
      "harga beras termurah tahun 2011: 6750\n"
     ]
    }
   ],
   "source": [
    "print(\"rata-rata harga seluruh jenis beras :\", data.harga.mean())\n",
    "print(\"harga beras termahal tahun 2011:\" , data.harga.max())\n",
    "print(\"harga beras termurah tahun 2011:\", data.harga.min())"
   ]
  },
  {
   "cell_type": "code",
   "execution_count": 7,
   "metadata": {},
   "outputs": [
    {
     "name": "stdout",
     "output_type": "stream",
     "text": [
      "Harga rata-rata beras tiap jenisnya\n"
     ]
    },
    {
     "data": {
      "text/html": [
       "<div>\n",
       "<style scoped>\n",
       "    .dataframe tbody tr th:only-of-type {\n",
       "        vertical-align: middle;\n",
       "    }\n",
       "\n",
       "    .dataframe tbody tr th {\n",
       "        vertical-align: top;\n",
       "    }\n",
       "\n",
       "    .dataframe thead th {\n",
       "        text-align: right;\n",
       "    }\n",
       "</style>\n",
       "<table border=\"1\" class=\"dataframe\">\n",
       "  <thead>\n",
       "    <tr style=\"text-align: right;\">\n",
       "      <th></th>\n",
       "      <th>tahun</th>\n",
       "      <th>harga</th>\n",
       "    </tr>\n",
       "    <tr>\n",
       "      <th>jenis_beras</th>\n",
       "      <th></th>\n",
       "      <th></th>\n",
       "    </tr>\n",
       "  </thead>\n",
       "  <tbody>\n",
       "    <tr>\n",
       "      <th>Cianjur Kepala</th>\n",
       "      <td>2011.0</td>\n",
       "      <td>10715.833333</td>\n",
       "    </tr>\n",
       "    <tr>\n",
       "      <th>Cianjur Slyp</th>\n",
       "      <td>2011.0</td>\n",
       "      <td>9743.833333</td>\n",
       "    </tr>\n",
       "    <tr>\n",
       "      <th>IR. 42</th>\n",
       "      <td>2011.0</td>\n",
       "      <td>8482.333333</td>\n",
       "    </tr>\n",
       "    <tr>\n",
       "      <th>IR. I</th>\n",
       "      <td>2011.0</td>\n",
       "      <td>8320.666667</td>\n",
       "    </tr>\n",
       "    <tr>\n",
       "      <th>IR. II</th>\n",
       "      <td>2011.0</td>\n",
       "      <td>7652.250000</td>\n",
       "    </tr>\n",
       "    <tr>\n",
       "      <th>IR. III</th>\n",
       "      <td>2011.0</td>\n",
       "      <td>7066.750000</td>\n",
       "    </tr>\n",
       "    <tr>\n",
       "      <th>Ketan Hitam</th>\n",
       "      <td>2011.0</td>\n",
       "      <td>12058.750000</td>\n",
       "    </tr>\n",
       "    <tr>\n",
       "      <th>Ketan Putih</th>\n",
       "      <td>2011.0</td>\n",
       "      <td>10413.500000</td>\n",
       "    </tr>\n",
       "    <tr>\n",
       "      <th>Muncul I</th>\n",
       "      <td>2011.0</td>\n",
       "      <td>8603.000000</td>\n",
       "    </tr>\n",
       "    <tr>\n",
       "      <th>Muncul II</th>\n",
       "      <td>2011.0</td>\n",
       "      <td>7969.500000</td>\n",
       "    </tr>\n",
       "    <tr>\n",
       "      <th>Muncul III</th>\n",
       "      <td>2011.0</td>\n",
       "      <td>7450.250000</td>\n",
       "    </tr>\n",
       "    <tr>\n",
       "      <th>Saigon Bandung</th>\n",
       "      <td>2011.0</td>\n",
       "      <td>9000.750000</td>\n",
       "    </tr>\n",
       "    <tr>\n",
       "      <th>Setra</th>\n",
       "      <td>2011.0</td>\n",
       "      <td>9426.750000</td>\n",
       "    </tr>\n",
       "  </tbody>\n",
       "</table>\n",
       "</div>"
      ],
      "text/plain": [
       "                 tahun         harga\n",
       "jenis_beras                         \n",
       "Cianjur Kepala  2011.0  10715.833333\n",
       "Cianjur Slyp    2011.0   9743.833333\n",
       "IR. 42          2011.0   8482.333333\n",
       "IR. I           2011.0   8320.666667\n",
       "IR. II          2011.0   7652.250000\n",
       "IR. III         2011.0   7066.750000\n",
       "Ketan Hitam     2011.0  12058.750000\n",
       "Ketan Putih     2011.0  10413.500000\n",
       "Muncul I        2011.0   8603.000000\n",
       "Muncul II       2011.0   7969.500000\n",
       "Muncul III      2011.0   7450.250000\n",
       "Saigon Bandung  2011.0   9000.750000\n",
       "Setra           2011.0   9426.750000"
      ]
     },
     "execution_count": 7,
     "metadata": {},
     "output_type": "execute_result"
    }
   ],
   "source": [
    "# data berdasarkan jenis beras\n",
    "print(\"Harga rata-rata beras tiap jenisnya\")\n",
    "data.groupby('jenis_beras').mean()"
   ]
  },
  {
   "cell_type": "code",
   "execution_count": 10,
   "metadata": {},
   "outputs": [
    {
     "data": {
      "text/html": [
       "<div>\n",
       "<style scoped>\n",
       "    .dataframe tbody tr th:only-of-type {\n",
       "        vertical-align: middle;\n",
       "    }\n",
       "\n",
       "    .dataframe tbody tr th {\n",
       "        vertical-align: top;\n",
       "    }\n",
       "\n",
       "    .dataframe thead th {\n",
       "        text-align: right;\n",
       "    }\n",
       "</style>\n",
       "<table border=\"1\" class=\"dataframe\">\n",
       "  <thead>\n",
       "    <tr style=\"text-align: right;\">\n",
       "      <th></th>\n",
       "      <th></th>\n",
       "      <th>tahun</th>\n",
       "      <th>harga</th>\n",
       "    </tr>\n",
       "    <tr>\n",
       "      <th>bulan</th>\n",
       "      <th>jenis_beras</th>\n",
       "      <th></th>\n",
       "      <th></th>\n",
       "    </tr>\n",
       "  </thead>\n",
       "  <tbody>\n",
       "    <tr>\n",
       "      <th rowspan=\"13\" valign=\"top\">Agustus</th>\n",
       "      <th>Cianjur Kepala</th>\n",
       "      <td>2011</td>\n",
       "      <td>10648</td>\n",
       "    </tr>\n",
       "    <tr>\n",
       "      <th>Cianjur Slyp</th>\n",
       "      <td>2011</td>\n",
       "      <td>9700</td>\n",
       "    </tr>\n",
       "    <tr>\n",
       "      <th>IR. 42</th>\n",
       "      <td>2011</td>\n",
       "      <td>8616</td>\n",
       "    </tr>\n",
       "    <tr>\n",
       "      <th>IR. I</th>\n",
       "      <td>2011</td>\n",
       "      <td>8202</td>\n",
       "    </tr>\n",
       "    <tr>\n",
       "      <th>IR. II</th>\n",
       "      <td>2011</td>\n",
       "      <td>7700</td>\n",
       "    </tr>\n",
       "    <tr>\n",
       "      <th>IR. III</th>\n",
       "      <td>2011</td>\n",
       "      <td>7202</td>\n",
       "    </tr>\n",
       "    <tr>\n",
       "      <th>Ketan Hitam</th>\n",
       "      <td>2011</td>\n",
       "      <td>12123</td>\n",
       "    </tr>\n",
       "    <tr>\n",
       "      <th>Ketan Putih</th>\n",
       "      <td>2011</td>\n",
       "      <td>10945</td>\n",
       "    </tr>\n",
       "    <tr>\n",
       "      <th>Muncul I</th>\n",
       "      <td>2011</td>\n",
       "      <td>8390</td>\n",
       "    </tr>\n",
       "    <tr>\n",
       "      <th>Muncul II</th>\n",
       "      <td>2011</td>\n",
       "      <td>7800</td>\n",
       "    </tr>\n",
       "    <tr>\n",
       "      <th>Muncul III</th>\n",
       "      <td>2011</td>\n",
       "      <td>7274</td>\n",
       "    </tr>\n",
       "    <tr>\n",
       "      <th>Saigon Bandung</th>\n",
       "      <td>2011</td>\n",
       "      <td>9035</td>\n",
       "    </tr>\n",
       "    <tr>\n",
       "      <th>Setra</th>\n",
       "      <td>2011</td>\n",
       "      <td>9400</td>\n",
       "    </tr>\n",
       "    <tr>\n",
       "      <th rowspan=\"13\" valign=\"top\">April</th>\n",
       "      <th>Cianjur Kepala</th>\n",
       "      <td>2011</td>\n",
       "      <td>10639</td>\n",
       "    </tr>\n",
       "    <tr>\n",
       "      <th>Cianjur Slyp</th>\n",
       "      <td>2011</td>\n",
       "      <td>9631</td>\n",
       "    </tr>\n",
       "    <tr>\n",
       "      <th>IR. 42</th>\n",
       "      <td>2011</td>\n",
       "      <td>8310</td>\n",
       "    </tr>\n",
       "    <tr>\n",
       "      <th>IR. I</th>\n",
       "      <td>2011</td>\n",
       "      <td>8244</td>\n",
       "    </tr>\n",
       "    <tr>\n",
       "      <th>IR. II</th>\n",
       "      <td>2011</td>\n",
       "      <td>7500</td>\n",
       "    </tr>\n",
       "    <tr>\n",
       "      <th>IR. III</th>\n",
       "      <td>2011</td>\n",
       "      <td>6750</td>\n",
       "    </tr>\n",
       "    <tr>\n",
       "      <th>Ketan Hitam</th>\n",
       "      <td>2011</td>\n",
       "      <td>12823</td>\n",
       "    </tr>\n",
       "    <tr>\n",
       "      <th>Ketan Putih</th>\n",
       "      <td>2011</td>\n",
       "      <td>9753</td>\n",
       "    </tr>\n",
       "    <tr>\n",
       "      <th>Muncul I</th>\n",
       "      <td>2011</td>\n",
       "      <td>8550</td>\n",
       "    </tr>\n",
       "    <tr>\n",
       "      <th>Muncul II</th>\n",
       "      <td>2011</td>\n",
       "      <td>7900</td>\n",
       "    </tr>\n",
       "    <tr>\n",
       "      <th>Muncul III</th>\n",
       "      <td>2011</td>\n",
       "      <td>7394</td>\n",
       "    </tr>\n",
       "    <tr>\n",
       "      <th>Saigon Bandung</th>\n",
       "      <td>2011</td>\n",
       "      <td>8918</td>\n",
       "    </tr>\n",
       "    <tr>\n",
       "      <th>Setra</th>\n",
       "      <td>2011</td>\n",
       "      <td>9348</td>\n",
       "    </tr>\n",
       "    <tr>\n",
       "      <th rowspan=\"4\" valign=\"top\">Desember</th>\n",
       "      <th>Cianjur Kepala</th>\n",
       "      <td>2011</td>\n",
       "      <td>11019</td>\n",
       "    </tr>\n",
       "    <tr>\n",
       "      <th>Cianjur Slyp</th>\n",
       "      <td>2011</td>\n",
       "      <td>9948</td>\n",
       "    </tr>\n",
       "    <tr>\n",
       "      <th>IR. 42</th>\n",
       "      <td>2011</td>\n",
       "      <td>8894</td>\n",
       "    </tr>\n",
       "    <tr>\n",
       "      <th>IR. I</th>\n",
       "      <td>2011</td>\n",
       "      <td>8494</td>\n",
       "    </tr>\n",
       "    <tr>\n",
       "      <th>...</th>\n",
       "      <th>...</th>\n",
       "      <td>...</td>\n",
       "      <td>...</td>\n",
       "    </tr>\n",
       "    <tr>\n",
       "      <th rowspan=\"4\" valign=\"top\">Nopember</th>\n",
       "      <th>Muncul II</th>\n",
       "      <td>2011</td>\n",
       "      <td>7910</td>\n",
       "    </tr>\n",
       "    <tr>\n",
       "      <th>Muncul III</th>\n",
       "      <td>2011</td>\n",
       "      <td>7393</td>\n",
       "    </tr>\n",
       "    <tr>\n",
       "      <th>Saigon Bandung</th>\n",
       "      <td>2011</td>\n",
       "      <td>8900</td>\n",
       "    </tr>\n",
       "    <tr>\n",
       "      <th>Setra</th>\n",
       "      <td>2011</td>\n",
       "      <td>9300</td>\n",
       "    </tr>\n",
       "    <tr>\n",
       "      <th rowspan=\"13\" valign=\"top\">Oktober</th>\n",
       "      <th>Cianjur Kepala</th>\n",
       "      <td>2011</td>\n",
       "      <td>10977</td>\n",
       "    </tr>\n",
       "    <tr>\n",
       "      <th>Cianjur Slyp</th>\n",
       "      <td>2011</td>\n",
       "      <td>9842</td>\n",
       "    </tr>\n",
       "    <tr>\n",
       "      <th>IR. 42</th>\n",
       "      <td>2011</td>\n",
       "      <td>8700</td>\n",
       "    </tr>\n",
       "    <tr>\n",
       "      <th>IR. I</th>\n",
       "      <td>2011</td>\n",
       "      <td>8200</td>\n",
       "    </tr>\n",
       "    <tr>\n",
       "      <th>IR. II</th>\n",
       "      <td>2011</td>\n",
       "      <td>7700</td>\n",
       "    </tr>\n",
       "    <tr>\n",
       "      <th>IR. III</th>\n",
       "      <td>2011</td>\n",
       "      <td>7277</td>\n",
       "    </tr>\n",
       "    <tr>\n",
       "      <th>Ketan Hitam</th>\n",
       "      <td>2011</td>\n",
       "      <td>12200</td>\n",
       "    </tr>\n",
       "    <tr>\n",
       "      <th>Ketan Putih</th>\n",
       "      <td>2011</td>\n",
       "      <td>10600</td>\n",
       "    </tr>\n",
       "    <tr>\n",
       "      <th>Muncul I</th>\n",
       "      <td>2011</td>\n",
       "      <td>8377</td>\n",
       "    </tr>\n",
       "    <tr>\n",
       "      <th>Muncul II</th>\n",
       "      <td>2011</td>\n",
       "      <td>7715</td>\n",
       "    </tr>\n",
       "    <tr>\n",
       "      <th>Muncul III</th>\n",
       "      <td>2011</td>\n",
       "      <td>7300</td>\n",
       "    </tr>\n",
       "    <tr>\n",
       "      <th>Saigon Bandung</th>\n",
       "      <td>2011</td>\n",
       "      <td>8945</td>\n",
       "    </tr>\n",
       "    <tr>\n",
       "      <th>Setra</th>\n",
       "      <td>2011</td>\n",
       "      <td>9397</td>\n",
       "    </tr>\n",
       "    <tr>\n",
       "      <th rowspan=\"13\" valign=\"top\">September</th>\n",
       "      <th>Cianjur Kepala</th>\n",
       "      <td>2011</td>\n",
       "      <td>10820</td>\n",
       "    </tr>\n",
       "    <tr>\n",
       "      <th>Cianjur Slyp</th>\n",
       "      <td>2011</td>\n",
       "      <td>9700</td>\n",
       "    </tr>\n",
       "    <tr>\n",
       "      <th>IR. 42</th>\n",
       "      <td>2011</td>\n",
       "      <td>8613</td>\n",
       "    </tr>\n",
       "    <tr>\n",
       "      <th>IR. I</th>\n",
       "      <td>2011</td>\n",
       "      <td>8233</td>\n",
       "    </tr>\n",
       "    <tr>\n",
       "      <th>IR. II</th>\n",
       "      <td>2011</td>\n",
       "      <td>7717</td>\n",
       "    </tr>\n",
       "    <tr>\n",
       "      <th>IR. III</th>\n",
       "      <td>2011</td>\n",
       "      <td>7240</td>\n",
       "    </tr>\n",
       "    <tr>\n",
       "      <th>Ketan Hitam</th>\n",
       "      <td>2011</td>\n",
       "      <td>12200</td>\n",
       "    </tr>\n",
       "    <tr>\n",
       "      <th>Ketan Putih</th>\n",
       "      <td>2011</td>\n",
       "      <td>10610</td>\n",
       "    </tr>\n",
       "    <tr>\n",
       "      <th>Muncul I</th>\n",
       "      <td>2011</td>\n",
       "      <td>8300</td>\n",
       "    </tr>\n",
       "    <tr>\n",
       "      <th>Muncul II</th>\n",
       "      <td>2011</td>\n",
       "      <td>7787</td>\n",
       "    </tr>\n",
       "    <tr>\n",
       "      <th>Muncul III</th>\n",
       "      <td>2011</td>\n",
       "      <td>7290</td>\n",
       "    </tr>\n",
       "    <tr>\n",
       "      <th>Saigon Bandung</th>\n",
       "      <td>2011</td>\n",
       "      <td>8980</td>\n",
       "    </tr>\n",
       "    <tr>\n",
       "      <th>Setra</th>\n",
       "      <td>2011</td>\n",
       "      <td>9480</td>\n",
       "    </tr>\n",
       "  </tbody>\n",
       "</table>\n",
       "<p>156 rows × 2 columns</p>\n",
       "</div>"
      ],
      "text/plain": [
       "                          tahun  harga\n",
       "bulan     jenis_beras                 \n",
       "Agustus   Cianjur Kepala   2011  10648\n",
       "          Cianjur Slyp     2011   9700\n",
       "          IR. 42           2011   8616\n",
       "          IR. I            2011   8202\n",
       "          IR. II           2011   7700\n",
       "          IR. III          2011   7202\n",
       "          Ketan Hitam      2011  12123\n",
       "          Ketan Putih      2011  10945\n",
       "          Muncul I         2011   8390\n",
       "          Muncul II        2011   7800\n",
       "          Muncul III       2011   7274\n",
       "          Saigon Bandung   2011   9035\n",
       "          Setra            2011   9400\n",
       "April     Cianjur Kepala   2011  10639\n",
       "          Cianjur Slyp     2011   9631\n",
       "          IR. 42           2011   8310\n",
       "          IR. I            2011   8244\n",
       "          IR. II           2011   7500\n",
       "          IR. III          2011   6750\n",
       "          Ketan Hitam      2011  12823\n",
       "          Ketan Putih      2011   9753\n",
       "          Muncul I         2011   8550\n",
       "          Muncul II        2011   7900\n",
       "          Muncul III       2011   7394\n",
       "          Saigon Bandung   2011   8918\n",
       "          Setra            2011   9348\n",
       "Desember  Cianjur Kepala   2011  11019\n",
       "          Cianjur Slyp     2011   9948\n",
       "          IR. 42           2011   8894\n",
       "          IR. I            2011   8494\n",
       "...                         ...    ...\n",
       "Nopember  Muncul II        2011   7910\n",
       "          Muncul III       2011   7393\n",
       "          Saigon Bandung   2011   8900\n",
       "          Setra            2011   9300\n",
       "Oktober   Cianjur Kepala   2011  10977\n",
       "          Cianjur Slyp     2011   9842\n",
       "          IR. 42           2011   8700\n",
       "          IR. I            2011   8200\n",
       "          IR. II           2011   7700\n",
       "          IR. III          2011   7277\n",
       "          Ketan Hitam      2011  12200\n",
       "          Ketan Putih      2011  10600\n",
       "          Muncul I         2011   8377\n",
       "          Muncul II        2011   7715\n",
       "          Muncul III       2011   7300\n",
       "          Saigon Bandung   2011   8945\n",
       "          Setra            2011   9397\n",
       "September Cianjur Kepala   2011  10820\n",
       "          Cianjur Slyp     2011   9700\n",
       "          IR. 42           2011   8613\n",
       "          IR. I            2011   8233\n",
       "          IR. II           2011   7717\n",
       "          IR. III          2011   7240\n",
       "          Ketan Hitam      2011  12200\n",
       "          Ketan Putih      2011  10610\n",
       "          Muncul I         2011   8300\n",
       "          Muncul II        2011   7787\n",
       "          Muncul III       2011   7290\n",
       "          Saigon Bandung   2011   8980\n",
       "          Setra            2011   9480\n",
       "\n",
       "[156 rows x 2 columns]"
      ]
     },
     "execution_count": 10,
     "metadata": {},
     "output_type": "execute_result"
    }
   ],
   "source": [
    "# harga rata-rata beras tiap bulan (seluruh jenis)\n",
    "data.groupby(['bulan', 'jenis_beras']).mean()"
   ]
  },
  {
   "cell_type": "markdown",
   "metadata": {},
   "source": [
    "# Visualisasi"
   ]
  },
  {
   "cell_type": "code",
   "execution_count": 8,
   "metadata": {},
   "outputs": [
    {
     "data": {
      "text/plain": [
       "Text(0,0.5,'harga')"
      ]
     },
     "execution_count": 8,
     "metadata": {},
     "output_type": "execute_result"
    }
   ],
   "source": [
    "jenis = data.groupby('jenis_beras').mean()['harga']\n",
    "jenis = jenis.plot(kind='bar', title =\"Harga Rata-Rata berdasarkan Jenis Beras tahun 2011\", legend=True, fontsize=12)\n",
    "jenis.set_xlabel('jenis_beras', fontsize=12)\n",
    "jenis.set_ylabel('harga', fontsize=12)"
   ]
  },
  {
   "cell_type": "markdown",
   "metadata": {},
   "source": [
    "Plot harga beras Cianjur Kepala dari bulan Januari - Desember 2011"
   ]
  },
  {
   "cell_type": "code",
   "execution_count": 9,
   "metadata": {},
   "outputs": [
    {
     "name": "stdout",
     "output_type": "stream",
     "text": [
      "    tahun      bulan     jenis_beras  harga\n",
      "0    2011    Januari  Cianjur Kepala  10435\n",
      "1    2011   Februari  Cianjur Kepala  10597\n",
      "2    2011      Maret  Cianjur Kepala  10558\n",
      "3    2011      April  Cianjur Kepala  10639\n",
      "4    2011        Mei  Cianjur Kepala  10603\n",
      "5    2011       Juni  Cianjur Kepala  10620\n",
      "6    2011       Juli  Cianjur Kepala  10674\n",
      "7    2011    Agustus  Cianjur Kepala  10648\n",
      "8    2011  September  Cianjur Kepala  10820\n",
      "9    2011    Oktober  Cianjur Kepala  10977\n",
      "10   2011   Nopember  Cianjur Kepala  11000\n",
      "11   2011   Desember  Cianjur Kepala  11019\n"
     ]
    },
    {
     "data": {
      "text/plain": [
       "<matplotlib.axes._subplots.AxesSubplot at 0xa440c50>"
      ]
     },
     "execution_count": 9,
     "metadata": {},
     "output_type": "execute_result"
    },
    {
     "data": {
      "image/png": "[encoded data removed]",
      "text/plain": [
       "<matplotlib.figure.Figure at 0xa440470>"
      ]
     },
     "metadata": {},
     "output_type": "display_data"
    }
   ],
   "source": [
    "cianjur = data.loc[(data['jenis_beras'])=='Cianjur Kepala']\n",
    "print(cianjur)\n",
    "cianjur.plot.line(x='bulan', y='harga')"
   ]
  },
  {
   "cell_type": "markdown",
   "metadata": {},
   "source": [
    "Plot harga beras Cianjur Slyp dari bulan Januari - Desember 2011"
   ]
  },
  {
   "cell_type": "code",
   "execution_count": 11,
   "metadata": {},
   "outputs": [
    {
     "name": "stdout",
     "output_type": "stream",
     "text": [
      "    tahun      bulan   jenis_beras  harga\n",
      "12   2011    Januari  Cianjur Slyp   9735\n",
      "13   2011   Februari  Cianjur Slyp   9945\n",
      "14   2011      Maret  Cianjur Slyp   9818\n",
      "15   2011      April  Cianjur Slyp   9631\n",
      "16   2011        Mei  Cianjur Slyp   9500\n",
      "17   2011       Juni  Cianjur Slyp   9533\n",
      "18   2011       Juli  Cianjur Slyp   9674\n",
      "19   2011    Agustus  Cianjur Slyp   9700\n",
      "20   2011  September  Cianjur Slyp   9700\n",
      "21   2011    Oktober  Cianjur Slyp   9842\n",
      "22   2011   Nopember  Cianjur Slyp   9900\n",
      "23   2011   Desember  Cianjur Slyp   9948\n"
     ]
    },
    {
     "data": {
      "text/plain": [
       "<matplotlib.axes._subplots.AxesSubplot at 0xa60ee30>"
      ]
     },
     "execution_count": 11,
     "metadata": {},
     "output_type": "execute_result"
    },
    {
     "data": {
      "image/png": "[encoded data removed]",
      "text/plain": [
       "<matplotlib.figure.Figure at 0xa5d4750>"
      ]
     },
     "metadata": {},
     "output_type": "display_data"
    }
   ],
   "source": [
    "cianjurs = data.loc[(data['jenis_beras'])=='Cianjur Slyp']\n",
    "print(cianjurs)\n",
    "cianjurs.plot.line(x='bulan', y='harga')"
   ]
  },
  {
   "cell_type": "markdown",
   "metadata": {},
   "source": [
    "Plot harga beras IR 42 tiap bulan pada tahun 2011"
   ]
  },
  {
   "cell_type": "code",
   "execution_count": 12,
   "metadata": {},
   "outputs": [
    {
     "name": "stdout",
     "output_type": "stream",
     "text": [
      "     tahun      bulan jenis_beras  harga\n",
      "120   2011    Januari      IR. 42   8169\n",
      "121   2011   Februari      IR. 42   8105\n",
      "122   2011      Maret      IR. 42   8382\n",
      "123   2011      April      IR. 42   8310\n",
      "124   2011        Mei      IR. 42   8161\n",
      "125   2011       Juni      IR. 42   8410\n",
      "126   2011       Juli      IR. 42   8645\n",
      "127   2011    Agustus      IR. 42   8616\n",
      "128   2011  September      IR. 42   8613\n",
      "129   2011    Oktober      IR. 42   8700\n",
      "130   2011   Nopember      IR. 42   8783\n",
      "131   2011   Desember      IR. 42   8894\n"
     ]
    },
    {
     "data": {
      "text/plain": [
       "<matplotlib.axes._subplots.AxesSubplot at 0xa60e4f0>"
      ]
     },
     "execution_count": 12,
     "metadata": {},
     "output_type": "execute_result"
    },
    {
     "data": {
      "image/png": "[encoded data removed]",
      "text/plain": [
       "<matplotlib.figure.Figure at 0x470fef0>"
      ]
     },
     "metadata": {},
     "output_type": "display_data"
    }
   ],
   "source": [
    "i42 = data.loc[(data['jenis_beras'])=='IR. 42']\n",
    "print(i42)\n",
    "i42.plot.line(x='bulan', y='harga')"
   ]
  },
  {
   "cell_type": "markdown",
   "metadata": {},
   "source": [
    "Plot harga beras IR I tiap bulan pada tahun 2011"
   ]
  },
  {
   "cell_type": "code",
   "execution_count": 13,
   "metadata": {},
   "outputs": [
    {
     "name": "stdout",
     "output_type": "stream",
     "text": [
      "    tahun      bulan jenis_beras  harga\n",
      "84   2011    Januari       IR. I   8423\n",
      "85   2011   Februari       IR. I   8500\n",
      "86   2011      Maret       IR. I   8377\n",
      "87   2011      April       IR. I   8244\n",
      "88   2011        Mei       IR. I   8215\n",
      "89   2011       Juni       IR. I   8300\n",
      "90   2011       Juli       IR. I   8297\n",
      "91   2011    Agustus       IR. I   8202\n",
      "92   2011  September       IR. I   8233\n",
      "93   2011    Oktober       IR. I   8200\n",
      "94   2011   Nopember       IR. I   8363\n",
      "95   2011   Desember       IR. I   8494\n"
     ]
    },
    {
     "data": {
      "text/plain": [
       "<matplotlib.axes._subplots.AxesSubplot at 0xa67add0>"
      ]
     },
     "execution_count": 13,
     "metadata": {},
     "output_type": "execute_result"
    },
    {
     "data": {
      "image/png": "[encoded data removed]",
      "text/plain": [
       "<matplotlib.figure.Figure at 0xa66b6b0>"
      ]
     },
     "metadata": {},
     "output_type": "display_data"
    }
   ],
   "source": [
    "i1 = data.loc[(data['jenis_beras'])=='IR. I']\n",
    "print(i1)\n",
    "i1.plot.line(x='bulan', y='harga')"
   ]
  },
  {
   "cell_type": "markdown",
   "metadata": {},
   "source": [
    "Plot harga beras IR II setiap bulan pada tahun 2011"
   ]
  },
  {
   "cell_type": "code",
   "execution_count": 14,
   "metadata": {},
   "outputs": [
    {
     "name": "stdout",
     "output_type": "stream",
     "text": [
      "     tahun      bulan jenis_beras  harga\n",
      "96    2011    Januari      IR. II   7445\n",
      "97    2011   Februari      IR. II   7500\n",
      "98    2011      Maret      IR. II   7500\n",
      "99    2011      April      IR. II   7500\n",
      "100   2011        Mei      IR. II   7537\n",
      "101   2011       Juni      IR. II   7713\n",
      "102   2011       Juli      IR. II   7758\n",
      "103   2011    Agustus      IR. II   7700\n",
      "104   2011  September      IR. II   7717\n",
      "105   2011    Oktober      IR. II   7700\n",
      "106   2011   Nopember      IR. II   7838\n",
      "107   2011   Desember      IR. II   7919\n"
     ]
    },
    {
     "data": {
      "text/plain": [
       "<matplotlib.axes._subplots.AxesSubplot at 0xa6eca70>"
      ]
     },
     "execution_count": 14,
     "metadata": {},
     "output_type": "execute_result"
    },
    {
     "data": {
      "image/png": "[encoded data removed]",
      "text/plain": [
       "<matplotlib.figure.Figure at 0xa64faf0>"
      ]
     },
     "metadata": {},
     "output_type": "display_data"
    }
   ],
   "source": [
    "i2 = data.loc[(data['jenis_beras'])=='IR. II']\n",
    "print(i2)\n",
    "i2.plot.line(x='bulan', y='harga')"
   ]
  },
  {
   "cell_type": "markdown",
   "metadata": {},
   "source": [
    "Plot harga beras IR III pada tahun 2011"
   ]
  },
  {
   "cell_type": "code",
   "execution_count": 15,
   "metadata": {},
   "outputs": [
    {
     "name": "stdout",
     "output_type": "stream",
     "text": [
      "     tahun      bulan jenis_beras  harga\n",
      "108   2011    Januari     IR. III   6821\n",
      "109   2011   Februari     IR. III   6752\n",
      "110   2011      Maret     IR. III   6750\n",
      "111   2011      April     IR. III   6750\n",
      "112   2011        Mei     IR. III   6821\n",
      "113   2011       Juni     IR. III   7123\n",
      "114   2011       Juli     IR. III   7192\n",
      "115   2011    Agustus     IR. III   7202\n",
      "116   2011  September     IR. III   7240\n",
      "117   2011    Oktober     IR. III   7277\n",
      "118   2011   Nopember     IR. III   7438\n",
      "119   2011   Desember     IR. III   7435\n"
     ]
    },
    {
     "data": {
      "text/plain": [
       "<matplotlib.axes._subplots.AxesSubplot at 0xa711a30>"
      ]
     },
     "execution_count": 15,
     "metadata": {},
     "output_type": "execute_result"
    },
    {
     "data": {
      "image/png": "[encoded data removed]",
      "text/plain": [
       "<matplotlib.figure.Figure at 0xa68c270>"
      ]
     },
     "metadata": {},
     "output_type": "display_data"
    }
   ],
   "source": [
    "i3 = data.loc[(data['jenis_beras'])=='IR. III']\n",
    "print(i3)\n",
    "i3.plot.line(x='bulan', y='harga')"
   ]
  },
  {
   "cell_type": "markdown",
   "metadata": {},
   "source": [
    "Plot harga beras Ketan Hitam pada tahun 2011"
   ]
  },
  {
   "cell_type": "code",
   "execution_count": 16,
   "metadata": {},
   "outputs": [
    {
     "name": "stdout",
     "output_type": "stream",
     "text": [
      "     tahun      bulan  jenis_beras  harga\n",
      "144   2011    Januari  Ketan Hitam  11500\n",
      "145   2011   Februari  Ketan Hitam  11500\n",
      "146   2011      Maret  Ketan Hitam  12306\n",
      "147   2011      April  Ketan Hitam  12823\n",
      "148   2011        Mei  Ketan Hitam  12316\n",
      "149   2011       Juni  Ketan Hitam  11540\n",
      "150   2011       Juli  Ketan Hitam  11684\n",
      "151   2011    Agustus  Ketan Hitam  12123\n",
      "152   2011  September  Ketan Hitam  12200\n",
      "153   2011    Oktober  Ketan Hitam  12200\n",
      "154   2011   Nopember  Ketan Hitam  12410\n",
      "155   2011   Desember  Ketan Hitam  12103\n"
     ]
    },
    {
     "data": {
      "text/plain": [
       "<matplotlib.axes._subplots.AxesSubplot at 0xa7421b0>"
      ]
     },
     "execution_count": 16,
     "metadata": {},
     "output_type": "execute_result"
    },
    {
     "data": {
      "image/png": "[encoded data removed]",
      "text/plain": [
       "<matplotlib.figure.Figure at 0xa768230>"
      ]
     },
     "metadata": {},
     "output_type": "display_data"
    }
   ],
   "source": [
    "kh = data.loc[(data['jenis_beras'])=='Ketan Hitam']\n",
    "print(kh)\n",
    "kh.plot.line(x='bulan', y='harga')"
   ]
  },
  {
   "cell_type": "markdown",
   "metadata": {},
   "source": [
    "Plot harga beras Ketan Putih th 2011"
   ]
  },
  {
   "cell_type": "code",
   "execution_count": 17,
   "metadata": {},
   "outputs": [
    {
     "name": "stdout",
     "output_type": "stream",
     "text": [
      "     tahun      bulan  jenis_beras  harga\n",
      "132   2011    Januari  Ketan Putih  10484\n",
      "133   2011   Februari  Ketan Putih  10090\n",
      "134   2011      Maret  Ketan Putih  10082\n",
      "135   2011      April  Ketan Putih   9753\n",
      "136   2011        Mei  Ketan Putih   9528\n",
      "137   2011       Juni  Ketan Putih   9475\n",
      "138   2011       Juli  Ketan Putih   9817\n",
      "139   2011    Agustus  Ketan Putih  10945\n",
      "140   2011  September  Ketan Putih  10610\n",
      "141   2011    Oktober  Ketan Putih  10600\n",
      "142   2011   Nopember  Ketan Putih  11354\n",
      "143   2011   Desember  Ketan Putih  12224\n"
     ]
    },
    {
     "data": {
      "text/plain": [
       "<matplotlib.axes._subplots.AxesSubplot at 0xa735e10>"
      ]
     },
     "execution_count": 17,
     "metadata": {},
     "output_type": "execute_result"
    },
    {
     "data": {
      "image/png": "[encoded data removed]",
      "text/plain": [
       "<matplotlib.figure.Figure at 0xa742950>"
      ]
     },
     "metadata": {},
     "output_type": "display_data"
    }
   ],
   "source": [
    "kp = data.loc[(data['jenis_beras'])=='Ketan Putih']\n",
    "print(kp)\n",
    "kp.plot.line(x='bulan', y='harga')"
   ]
  },
  {
   "cell_type": "markdown",
   "metadata": {},
   "source": [
    "Harga beras Muncul I th 2011"
   ]
  },
  {
   "cell_type": "code",
   "execution_count": 18,
   "metadata": {},
   "outputs": [
    {
     "name": "stdout",
     "output_type": "stream",
     "text": [
      "    tahun      bulan jenis_beras  harga\n",
      "48   2011    Januari    Muncul I   8968\n",
      "49   2011   Februari    Muncul I   9097\n",
      "50   2011      Maret    Muncul I   8827\n",
      "51   2011      April    Muncul I   8550\n",
      "52   2011        Mei    Muncul I   8510\n",
      "53   2011       Juni    Muncul I   8467\n",
      "54   2011       Juli    Muncul I   8400\n",
      "55   2011    Agustus    Muncul I   8390\n",
      "56   2011  September    Muncul I   8300\n",
      "57   2011    Oktober    Muncul I   8377\n",
      "58   2011   Nopember    Muncul I   8550\n",
      "59   2011   Desember    Muncul I   8800\n"
     ]
    },
    {
     "data": {
      "text/plain": [
       "<matplotlib.axes._subplots.AxesSubplot at 0xa7d76f0>"
      ]
     },
     "execution_count": 18,
     "metadata": {},
     "output_type": "execute_result"
    },
    {
     "data": {
      "image/png": "[encoded data removed]",
      "text/plain": [
       "<matplotlib.figure.Figure at 0xa7ebfd0>"
      ]
     },
     "metadata": {},
     "output_type": "display_data"
    }
   ],
   "source": [
    "m1 = data.loc[(data['jenis_beras'])=='Muncul I']\n",
    "print(m1)\n",
    "m1.plot.line(x='bulan', y='harga')"
   ]
  },
  {
   "cell_type": "markdown",
   "metadata": {},
   "source": [
    "Plot harga beras Muncul II th 2011"
   ]
  },
  {
   "cell_type": "code",
   "execution_count": 19,
   "metadata": {},
   "outputs": [
    {
     "name": "stdout",
     "output_type": "stream",
     "text": [
      "    tahun      bulan jenis_beras  harga\n",
      "60   2011    Januari   Muncul II   8337\n",
      "61   2011   Februari   Muncul II   8495\n",
      "62   2011      Maret   Muncul II   8177\n",
      "63   2011      April   Muncul II   7900\n",
      "64   2011        Mei   Muncul II   7819\n",
      "65   2011       Juni   Muncul II   7800\n",
      "66   2011       Juli   Muncul II   7800\n",
      "67   2011    Agustus   Muncul II   7800\n",
      "68   2011  September   Muncul II   7787\n",
      "69   2011    Oktober   Muncul II   7715\n",
      "70   2011   Nopember   Muncul II   7910\n",
      "71   2011   Desember   Muncul II   8094\n"
     ]
    },
    {
     "data": {
      "text/plain": [
       "<matplotlib.axes._subplots.AxesSubplot at 0xa82f0f0>"
      ]
     },
     "execution_count": 19,
     "metadata": {},
     "output_type": "execute_result"
    },
    {
     "data": {
      "image/png": "[encoded data removed]",
      "text/plain": [
       "<matplotlib.figure.Figure at 0xa7fbf90>"
      ]
     },
     "metadata": {},
     "output_type": "display_data"
    }
   ],
   "source": [
    "m2 = data.loc[(data['jenis_beras'])=='Muncul II']\n",
    "print(m2)\n",
    "m2.plot.line(x='bulan', y='harga')"
   ]
  },
  {
   "cell_type": "markdown",
   "metadata": {},
   "source": [
    "Plot harga beras Muncul III pada th 2011"
   ]
  },
  {
   "cell_type": "code",
   "execution_count": 20,
   "metadata": {},
   "outputs": [
    {
     "name": "stdout",
     "output_type": "stream",
     "text": [
      "    tahun      bulan jenis_beras  harga\n",
      "72   2011    Januari  Muncul III   7750\n",
      "73   2011   Februari  Muncul III   7750\n",
      "74   2011      Maret  Muncul III   7539\n",
      "75   2011      April  Muncul III   7394\n",
      "76   2011        Mei  Muncul III   7400\n",
      "77   2011       Juni  Muncul III   7400\n",
      "78   2011       Juli  Muncul III   7400\n",
      "79   2011    Agustus  Muncul III   7274\n",
      "80   2011  September  Muncul III   7290\n",
      "81   2011    Oktober  Muncul III   7300\n",
      "82   2011   Nopember  Muncul III   7393\n",
      "83   2011   Desember  Muncul III   7513\n"
     ]
    },
    {
     "data": {
      "text/plain": [
       "<matplotlib.axes._subplots.AxesSubplot at 0xa82f610>"
      ]
     },
     "execution_count": 20,
     "metadata": {},
     "output_type": "execute_result"
    },
    {
     "data": {
      "image/png": "[encoded data removed]",
      "text/plain": [
       "<matplotlib.figure.Figure at 0xa8137f0>"
      ]
     },
     "metadata": {},
     "output_type": "display_data"
    }
   ],
   "source": [
    "m3 = data.loc[(data['jenis_beras'])=='Muncul III']\n",
    "print(m3)\n",
    "m3.plot.line(x='bulan', y='harga')"
   ]
  },
  {
   "cell_type": "markdown",
   "metadata": {},
   "source": [
    "Plot harga beras Saigon Bandung th 2011"
   ]
  },
  {
   "cell_type": "code",
   "execution_count": 21,
   "metadata": {},
   "outputs": [
    {
     "name": "stdout",
     "output_type": "stream",
     "text": [
      "    tahun      bulan     jenis_beras  harga\n",
      "36   2011    Januari  Saigon Bandung   9110\n",
      "37   2011   Februari  Saigon Bandung   9200\n",
      "38   2011      Maret  Saigon Bandung   9090\n",
      "39   2011      April  Saigon Bandung   8918\n",
      "40   2011        Mei  Saigon Bandung   8848\n",
      "41   2011       Juni  Saigon Bandung   9033\n",
      "42   2011       Juli  Saigon Bandung   9050\n",
      "43   2011    Agustus  Saigon Bandung   9035\n",
      "44   2011  September  Saigon Bandung   8980\n",
      "45   2011    Oktober  Saigon Bandung   8945\n",
      "46   2011   Nopember  Saigon Bandung   8900\n",
      "47   2011   Desember  Saigon Bandung   8900\n"
     ]
    },
    {
     "data": {
      "text/plain": [
       "<matplotlib.axes._subplots.AxesSubplot at 0xa8bc3d0>"
      ]
     },
     "execution_count": 21,
     "metadata": {},
     "output_type": "execute_result"
    },
    {
     "data": {
      "image/png": "[encoded data removed]",
      "text/plain": [
       "<matplotlib.figure.Figure at 0xa7fbfd0>"
      ]
     },
     "metadata": {},
     "output_type": "display_data"
    }
   ],
   "source": [
    "sb = data.loc[(data['jenis_beras'])=='Saigon Bandung']\n",
    "print(sb)\n",
    "sb.plot.line(x='bulan', y='harga')"
   ]
  },
  {
   "cell_type": "markdown",
   "metadata": {},
   "source": [
    "Plot harga beras Setra th 2011"
   ]
  },
  {
   "cell_type": "code",
   "execution_count": 22,
   "metadata": {},
   "outputs": [
    {
     "name": "stdout",
     "output_type": "stream",
     "text": [
      "    tahun      bulan jenis_beras  harga\n",
      "24   2011    Januari       Setra   9534\n",
      "25   2011   Februari       Setra   9550\n",
      "26   2011      Maret       Setra   9531\n",
      "27   2011      April       Setra   9348\n",
      "28   2011        Mei       Setra   9352\n",
      "29   2011       Juni       Setra   9400\n",
      "30   2011       Juli       Setra   9400\n",
      "31   2011    Agustus       Setra   9400\n",
      "32   2011  September       Setra   9480\n",
      "33   2011    Oktober       Setra   9397\n",
      "34   2011   Nopember       Setra   9300\n",
      "35   2011   Desember       Setra   9429\n"
     ]
    },
    {
     "data": {
      "text/plain": [
       "<matplotlib.axes._subplots.AxesSubplot at 0xa902dd0>"
      ]
     },
     "execution_count": 22,
     "metadata": {},
     "output_type": "execute_result"
    },
    {
     "data": {
      "image/png": "[encoded data removed]",
      "text/plain": [
       "<matplotlib.figure.Figure at 0xa8e7530>"
      ]
     },
     "metadata": {},
     "output_type": "display_data"
    }
   ],
   "source": [
    "str = data.loc[(data['jenis_beras'])=='Setra']\n",
    "print(str)\n",
    "str.plot.line(x='bulan', y='harga')"
   ]
  },
  {
   "cell_type": "code",
   "execution_count": 23,
   "metadata": {},
   "outputs": [
    {
     "name": "stdout",
     "output_type": "stream",
     "text": [
      "bulan\n",
      "Agustus      9002.692308\n",
      "April        8904.615385\n",
      "Desember     9290.153846\n",
      "Februari     9006.230769\n",
      "Januari      8977.769231\n",
      "Juli         8907.000000\n",
      "Juni         8831.846154\n",
      "Maret        8995.153846\n",
      "Mei          8816.153846\n",
      "Nopember     9164.538462\n",
      "Oktober      9017.692308\n",
      "September    8997.692308\n",
      "Name: harga, dtype: float64\n"
     ]
    }
   ],
   "source": [
    "bln = data.groupby('bulan').mean()['harga']\n",
    "print(bln)"
   ]
  },
  {
   "cell_type": "markdown",
   "metadata": {},
   "source": [
    "Harga rata-rata beras(secara keseluruhan) per bulan"
   ]
  },
  {
   "cell_type": "code",
   "execution_count": 24,
   "metadata": {},
   "outputs": [
    {
     "data": {
      "text/plain": [
       "Text(0,0.5,'harga')"
      ]
     },
     "execution_count": 24,
     "metadata": {},
     "output_type": "execute_result"
    },
    {
     "data": {
      "image/png": "[encoded data removed]",
      "text/plain": [
       "<matplotlib.figure.Figure at 0xa8fa630>"
      ]
     },
     "metadata": {},
     "output_type": "display_data"
    }
   ],
   "source": [
    "bln = data.groupby('bulan').mean()['harga']\n",
    "bln = bln.plot(kind='line', title =\"Harga Rata-Rata per bln pada tahun 2011\", figsize=(6,4),legend=True, fontsize=12)\n",
    "bln.set_xlabel('bulan', fontsize=12)\n",
    "bln.set_ylabel('harga', fontsize=12)"
   ]
  },
  {
   "cell_type": "markdown",
   "metadata": {},
   "source": [
    "# Analisis"
   ]
  },
  {
   "cell_type": "markdown",
   "metadata": {},
   "source": [
    "Berdasarkan grafik pertama yaitu grafik \"Harga Rata-Rata berdasarkan Jenis Beras tahun 2011\",\n",
    "dapat dilihat bahwa beras yang memiliki rata-rata harga paling tinggi adalah \"ketan hitam\"\n",
    "sedangkan beras dengan harga rata-rata terendah yaitu IR III. Setelahnya, ditampilkan grafik harga beras tiap bulan per jenis beras.\n",
    "Dimulai dari jenis beras Cianjur Kepala hingga Setra. Dari grafik dapat dilihat perubahan harga tiap jenis beras per tahunnya.\n",
    "Seluruh grafik menunjukkan harga beras berubah-ubah setiap bulan dan tidak stabil, ada yang harga berasnya terus naik,\n",
    "namun ada juga harga beras yang berubah naik-turun-naik lagi secara tidak beraturan.\n",
    "\n",
    "Jenis beras yang harganya selalu naik dari bulan ke bulan adalah :\n",
    "- Cianjur kepala\n",
    "- IR 42\n",
    "- IR II\n",
    "- IR III\n",
    "\n",
    "Jenis beras yang harganya cenderung turun namun naik lagi adalah :\n",
    "- Cianjur Slyp\n",
    "- IR I\n",
    "- Ketan Putih\n",
    "- Muncul I\n",
    "- Muncul II\n",
    "- Muncul III\n",
    "\n",
    "Untuk harga beras Muncul baik I, II, dan III, semuanya, pada akhir tahun lebih murah daripada awal tahun, meski mengalami peningkatan harga mulai pada tengah tahun. \n",
    "\n",
    "Sedangkan untuk beras yang perubahan harganya selalu berubah naik turun adalah :\n",
    "- Ketan Hitam\n",
    "- Saigon Bandung \n",
    "- Setra\n",
    "\n",
    "Namun, ketiga beras ini memiliki harga lebih rendah pada akhir tahun dibandingkan dengan awal tahun.\n",
    "\n",
    "Di grafik paling akhir menunjukkan pergerakan harga rata-rata beras (secara keseluruhan) pada tiap bulan (namun urut dengan abjad) dan dari grafik dapat dilihat harga beras umumnya paling tinggi pada bulan Desember (akhir tahun) dan umumnya paling rendah pada bulan Mei (tengah tahun)"
   ]
  },
  {
   "cell_type": "code",
   "execution_count": null,
   "metadata": {},
   "outputs": [],
   "source": []
  }
 ],
 "metadata": {
  "kernelspec": {
   "display_name": "Python 3",
   "language": "python",
   "name": "python3"
  },
  "language_info": {
   "codemirror_mode": {
    "name": "ipython",
    "version": 3
   },
   "file_extension": ".py",
   "mimetype": "text/x-python",
   "name": "python",
   "nbconvert_exporter": "python",
   "pygments_lexer": "ipython3",
   "version": "3.6.4"
  }
 },
 "nbformat": 4,
 "nbformat_minor": 2
}
