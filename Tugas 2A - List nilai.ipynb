{
 "cells": [
  {
   "cell_type": "code",
   "execution_count": 3,
   "metadata": {},
   "outputs": [
    {
     "name": "stdout",
     "output_type": "stream",
     "text": [
      "[17, 28, 2, 46, 92, 81, 65, 26, 27, 86, 11, 47, 43, 75, 81, 26, 24, 50, 37, 77, 54, 86, 79, 74, 27, 78, 81, 71, 73, 36, 65, 98, 56, 70, 60, 21, 26, 87, 45, 3, 36, 17, 71, 59, 49, 65, 37, 6, 59, 83, 65, 4, 52, 42, 61, 74, 28, 13, 9, 7, 68, 37, 58, 54, 39, 50, 19, 3, 78, 59, 97, 85, 26, 90, 18, 18, 81, 51, 45, 79, 37, 76, 98, 63, 15, 16, 56, 31, 70, 46, 75, 9, 9, 43, 90, 74, 21, 22, 77, 14, 27, 85, 33, 19, 31, 25, 67, 29, 5, 90, 1, 69, 9, 33, 62, 37, 6, 1, 21, 11, 36, 96, 59, 96, 63, 64, 22, 31, 65, 22, 75, 28, 7, 29, 70, 40, 71, 28, 96, 93, 56, 31, 68, 63, 18, 14, 57, 5, 75, 59, 43, 44, 44, 10, 12, 62, 88, 48, 39, 2, 79, 86, 98, 96, 4, 74, 42, 7, 35, 6, 71, 30, 60, 42, 59, 88, 76, 38, 1, 19, 71, 9, 39, 34, 46, 43, 24, 85, 30, 9, 42, 71, 73, 46, 56, 61, 41, 95, 32, 57, 19, 65, 41, 66, 52, 79, 36, 41, 24, 85, 70, 65, 13, 52, 67, 53, 36, 51, 58, 50, 25, 64, 3, 20, 13, 89, 51, 10, 97, 50, 15, 7, 46, 21, 33, 90, 99, 98, 61, 62, 63, 27, 24, 61, 77, 60, 61, 98, 34, 12]\n"
     ]
    }
   ],
   "source": [
    "import random\n",
    "\n",
    "# buat list kosong\n",
    "nilaiTugas = []\n",
    "for i in range(250):\n",
    "    nilaiTugas.append(random.randrange(1,100,1))\n",
    "    \n",
    "# menampilkan nilai tugas\n",
    "print(nilaiTugas)"
   ]
  },
  {
   "cell_type": "markdown",
   "metadata": {},
   "source": [
    "# Nilai yang ganjil"
   ]
  },
  {
   "cell_type": "code",
   "execution_count": 4,
   "metadata": {},
   "outputs": [
    {
     "name": "stdout",
     "output_type": "stream",
     "text": [
      "Nilai ganjil adalah :  [17, 81, 65, 27, 11, 47, 43, 75, 81, 37, 77, 79, 27, 81, 71, 73, 65, 21, 87, 45, 3, 17, 71, 59, 49, 65, 37, 59, 83, 65, 61, 13, 9, 7, 37, 39, 19, 3, 59, 97, 85, 81, 51, 45, 79, 37, 63, 15, 31, 75, 9, 9, 43, 21, 77, 27, 85, 33, 19, 31, 25, 67, 29, 5, 1, 69, 9, 33, 37, 1, 21, 11, 59, 63, 31, 65, 75, 7, 29, 71, 93, 31, 63, 57, 5, 75, 59, 43, 39, 79, 7, 35, 71, 59, 1, 19, 71, 9, 39, 43, 85, 9, 71, 73, 61, 41, 95, 57, 19, 65, 41, 79, 41, 85, 65, 13, 67, 53, 51, 25, 3, 13, 89, 51, 97, 15, 7, 21, 33, 99, 61, 63, 27, 61, 77, 61]\n"
     ]
    }
   ],
   "source": [
    "#buat list kosong\n",
    "ganjil=[]\n",
    "\n",
    "# untuk tiap elemen pd list 'nilaiTugas'\n",
    "for n in nilaiTugas:\n",
    "\n",
    "    #     untuk bilangan ganjil maka sisa pembagian TIDAK SAMA DENGAN nol\n",
    "    if n%2 !=0:\n",
    "        ganjil.append(n)\n",
    "\n",
    "# menampilkan nilai ganjil        \n",
    "print (\"Nilai ganjil adalah : \" , ganjil)"
   ]
  },
  {
   "cell_type": "markdown",
   "metadata": {},
   "source": [
    "# Nilai > 70"
   ]
  },
  {
   "cell_type": "code",
   "execution_count": 10,
   "metadata": {},
   "outputs": [
    {
     "name": "stdout",
     "output_type": "stream",
     "text": [
      "Nilai yang lebih besar dari 70 yaitu :  [92, 81, 86, 75, 81, 77, 86, 79, 74, 78, 81, 71, 73, 98, 87, 71, 83, 74, 78, 97, 85, 90, 81, 79, 76, 98, 75, 90, 74, 77, 85, 90, 96, 96, 75, 71, 96, 93, 75, 88, 79, 86, 98, 96, 74, 71, 88, 76, 71, 85, 71, 73, 95, 79, 85, 89, 97, 90, 99, 98, 77, 98]\n",
      "++++++++++++++++++++++++++++++++++++++++++++++++++++++++++++++++++++++++++++++++++++++++++++++++++++++\n",
      "jumlah nilai yg lebih besar dari 70 :  62\n"
     ]
    }
   ],
   "source": [
    "#buat list kosong\n",
    "more70=[]\n",
    "\n",
    "for n in nilaiTugas:\n",
    "    if n>70:\n",
    "        more70.append(n)\n",
    "        \n",
    "# menampilkan nilai >70        \n",
    "print(\"Nilai yang lebih besar dari 70 yaitu : \", more70)\n",
    "print(\"++++++++++++++++++++++++++++++++++++++++++++++++++++++++++++++++++++++++++++++++++++++++++++++++++++++\")\n",
    "print(\"jumlah nilai yg lebih besar dari 70 : \", len(more70))"
   ]
  },
  {
   "cell_type": "markdown",
   "metadata": {},
   "source": [
    "# Standar Deviasi"
   ]
  },
  {
   "cell_type": "code",
   "execution_count": 4,
   "metadata": {},
   "outputs": [
    {
     "name": "stdout",
     "output_type": "stream",
     "text": [
      "Standard Deviasi :  27.98984784398295\n"
     ]
    }
   ],
   "source": [
    "#menghitung rata-rata\n",
    "total = 0\n",
    "for n in nilaiTugas:\n",
    "    total = total + n\n",
    "rerata = total / len(nilaiTugas)\n",
    "\n",
    "#menghitung standar deviasi\n",
    "selisih_sum = 0\n",
    "for n in nilaiTugas:\n",
    "    x = n - rerata\n",
    "    kuadrat = x**2\n",
    "    selisih_sum = selisih_sum + kuadrat\n",
    "    \n",
    "sd = (selisih_sum / (len(nilaiTugas)-1))**(0.5)\n",
    "\n",
    "# menampilkan standar deviasi\n",
    "print(\"Standard Deviasi : \",sd)"
   ]
  },
  {
   "cell_type": "markdown",
   "metadata": {},
   "source": [
    "# Nilai maksimum"
   ]
  },
  {
   "cell_type": "code",
   "execution_count": 5,
   "metadata": {},
   "outputs": [
    {
     "name": "stdout",
     "output_type": "stream",
     "text": [
      "Nilai Maksimum :  99\n"
     ]
    }
   ],
   "source": [
    "maks=0\n",
    "\n",
    "# membandingkan tiap nilai n pada list nilaiTugas\n",
    "for n in nilaiTugas:\n",
    "    if n > maks:\n",
    "        maks = n\n",
    "\n",
    "# menampilkan nilai maksimum\n",
    "print(\"Nilai Maksimum : \", maks)"
   ]
  },
  {
   "cell_type": "markdown",
   "metadata": {},
   "source": [
    "# Nilai minimum"
   ]
  },
  {
   "cell_type": "code",
   "execution_count": 6,
   "metadata": {},
   "outputs": [
    {
     "name": "stdout",
     "output_type": "stream",
     "text": [
      "Nilai Minimum :  1\n"
     ]
    }
   ],
   "source": [
    "# membandingkan tiap nilai n pada list nilaiTugas\n",
    "for n in nilaiTugas:\n",
    "    if n < maks:\n",
    "        maks = n\n",
    "\n",
    "# menampilkan nilai maksimum\n",
    "print(\"Nilai Minimum : \", maks)"
   ]
  },
  {
   "cell_type": "markdown",
   "metadata": {},
   "source": [
    "# Modus"
   ]
  },
  {
   "cell_type": "code",
   "execution_count": 7,
   "metadata": {},
   "outputs": [
    {
     "name": "stdout",
     "output_type": "stream",
     "text": [
      "Modus pada list nilaiTugas :  59\n"
     ]
    }
   ],
   "source": [
    "maksimal=0\n",
    "\n",
    "# membuat dict kosong\n",
    "modus={}\n",
    "\n",
    "# menghitung tiap elemen pada list nilaiTugas dan menampilkan jumlahnya dengan format dictionary {key:val}\n",
    "for i in nilaiTugas:\n",
    "    count = nilaiTugas.count(i)\n",
    "    modus.update({i:count})\n",
    "\n",
    "# membandingkan jml tiap elemen\n",
    "for key in modus:\n",
    "    if modus[key]>maksimal:\n",
    "        maksimal=modus[key]\n",
    "\n",
    "# menampilkan elemen dengan frekuensi terbanyak\n",
    "for key in modus:\n",
    "    if modus[key]==maksimal:\n",
    "        print(\"Modus pada list nilaiTugas : \", key)"
   ]
  },
  {
   "cell_type": "code",
   "execution_count": null,
   "metadata": {},
   "outputs": [],
   "source": []
  }
 ],
 "metadata": {
  "kernelspec": {
   "display_name": "Python 3",
   "language": "python",
   "name": "python3"
  },
  "language_info": {
   "codemirror_mode": {
    "name": "ipython",
    "version": 3
   },
   "file_extension": ".py",
   "mimetype": "text/x-python",
   "name": "python",
   "nbconvert_exporter": "python",
   "pygments_lexer": "ipython3",
   "version": "3.6.4"
  }
 },
 "nbformat": 4,
 "nbformat_minor": 2
}
