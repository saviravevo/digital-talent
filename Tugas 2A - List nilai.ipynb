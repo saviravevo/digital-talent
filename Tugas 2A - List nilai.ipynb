{
 "cells": [
  {
   "cell_type": "code",
   "execution_count": 1,
   "metadata": {},
   "outputs": [
    {
     "name": "stdout",
     "output_type": "stream",
     "text": [
      "[68, 57, 72, 59, 75, 26, 20, 62, 56, 64, 14, 24, 15, 98, 69, 30, 2, 73, 39, 94, 74, 12, 22, 11, 59, 11, 60, 58, 74, 22, 86, 35, 58, 51, 70, 30, 88, 17, 6, 34, 75, 62, 64, 97, 18, 35, 57, 13, 32, 7, 3, 59, 20, 27, 21, 83, 87, 99, 28, 81, 34, 54, 90, 82, 39, 49, 50, 13, 32, 57, 99, 41, 88, 39, 50, 11, 49, 55, 95, 88, 86, 52, 17, 5, 82, 48, 29, 80, 11, 3, 74, 17, 40, 72, 43, 21, 93, 82, 89, 10, 40, 27, 67, 36, 68, 57, 14, 55, 83, 52, 97, 87, 56, 54, 13, 63, 87, 76, 59, 38, 67, 29, 52, 6, 91, 94, 95, 76, 14, 49, 73, 63, 9, 62, 56, 90, 47, 73, 26, 49, 54, 17, 19, 45, 51, 70, 86, 23, 78, 67, 34, 6, 64, 66, 67, 18, 86, 27, 58, 65, 6, 28, 99, 80, 8, 51, 64, 61, 88, 20, 91, 74, 23, 46, 74, 81, 80, 99, 79, 39, 30, 95, 94, 81, 17, 50, 77, 34, 60, 47, 31, 59, 27, 48, 79, 97, 51, 68, 34, 89, 82, 40, 59, 20, 1, 53, 69, 29, 64, 66, 62, 68, 87, 85, 30, 76, 73, 16, 2, 32, 17, 62, 29, 86, 63, 61, 96, 10, 3, 57, 18, 94, 98, 49, 11, 77, 67, 74, 32, 75, 73, 28, 1, 97, 95, 4, 15, 59, 53, 62]\n"
     ]
    }
   ],
   "source": [
    "import random\n",
    "\n",
    "# buat list kosong\n",
    "nilaiTugas = []\n",
    "for i in range(250):\n",
    "    nilaiTugas.append(random.randrange(1,100,1))\n",
    "    \n",
    "# menampilkan nilai tugas\n",
    "print(nilaiTugas)"
   ]
  },
  {
   "cell_type": "markdown",
   "metadata": {},
   "source": [
    "# Nilai yang ganjil"
   ]
  },
  {
   "cell_type": "code",
   "execution_count": 2,
   "metadata": {},
   "outputs": [
    {
     "name": "stdout",
     "output_type": "stream",
     "text": [
      "Nilai ganjil adalah :  [57, 59, 75, 15, 69, 73, 39, 11, 59, 11, 35, 51, 17, 75, 97, 35, 57, 13, 7, 3, 59, 27, 21, 83, 87, 99, 81, 39, 49, 13, 57, 99, 41, 39, 11, 49, 55, 95, 17, 5, 29, 11, 3, 17, 43, 21, 93, 89, 27, 67, 57, 55, 83, 97, 87, 13, 63, 87, 59, 67, 29, 91, 95, 49, 73, 63, 9, 47, 73, 49, 17, 19, 45, 51, 23, 67, 67, 27, 65, 99, 51, 61, 91, 23, 81, 99, 79, 39, 95, 81, 17, 77, 47, 31, 59, 27, 79, 97, 51, 89, 59, 1, 53, 69, 29, 87, 85, 73, 17, 29, 63, 61, 3, 57, 49, 11, 77, 67, 75, 73, 1, 97, 95, 15, 59, 53]\n"
     ]
    }
   ],
   "source": [
    "#buat list kosong\n",
    "ganjil=[]\n",
    "\n",
    "# untuk tiap elemen pd list 'nilaiTugas'\n",
    "for n in nilaiTugas:\n",
    "\n",
    "    #     untuk bilangan ganjil maka sisa pembagian TIDAK SAMA DENGAN nol\n",
    "    if n%2 !=0:\n",
    "        ganjil.append(n)\n",
    "\n",
    "# menampilkan nilai ganjil        \n",
    "print (\"Nilai ganjil adalah : \" , ganjil)"
   ]
  },
  {
   "cell_type": "markdown",
   "metadata": {},
   "source": [
    "# Nilai > 70"
   ]
  },
  {
   "cell_type": "code",
   "execution_count": 3,
   "metadata": {},
   "outputs": [
    {
     "name": "stdout",
     "output_type": "stream",
     "text": [
      "Nilai yang lebih besar dari 70 yaitu :  [72, 75, 98, 73, 94, 74, 74, 86, 88, 75, 97, 83, 87, 99, 81, 90, 82, 99, 88, 95, 88, 86, 82, 80, 74, 72, 93, 82, 89, 83, 97, 87, 87, 76, 91, 94, 95, 76, 73, 90, 73, 86, 78, 86, 99, 80, 88, 91, 74, 74, 81, 80, 99, 79, 95, 94, 81, 77, 79, 97, 89, 82, 87, 85, 76, 73, 86, 96, 94, 98, 77, 74, 75, 73, 97, 95]\n"
     ]
    }
   ],
   "source": [
    "#buat list kosong\n",
    "more70=[]\n",
    "\n",
    "for n in nilaiTugas:\n",
    "    if n>70:\n",
    "        more70.append(n)\n",
    "        \n",
    "# menampilkan nilai >70        \n",
    "print(\"Nilai yang lebih besar dari 70 yaitu : \", more70)"
   ]
  },
  {
   "cell_type": "markdown",
   "metadata": {},
   "source": [
    "# Standar Deviasi"
   ]
  },
  {
   "cell_type": "code",
   "execution_count": 4,
   "metadata": {},
   "outputs": [
    {
     "name": "stdout",
     "output_type": "stream",
     "text": [
      "Standard Deviasi :  27.98984784398295\n"
     ]
    }
   ],
   "source": [
    "#menghitung rata-rata\n",
    "total = 0\n",
    "for n in nilaiTugas:\n",
    "    total = total + n\n",
    "rerata = total / len(nilaiTugas)\n",
    "\n",
    "#menghitung standar deviasi\n",
    "selisih_sum = 0\n",
    "for n in nilaiTugas:\n",
    "    x = n - rerata\n",
    "    kuadrat = x**2\n",
    "    selisih_sum = selisih_sum + kuadrat\n",
    "    \n",
    "sd = (selisih_sum / (len(nilaiTugas)-1))**(0.5)\n",
    "\n",
    "# menampilkan standar deviasi\n",
    "print(\"Standard Deviasi : \",sd)"
   ]
  },
  {
   "cell_type": "markdown",
   "metadata": {},
   "source": [
    "# Nilai maksimum"
   ]
  },
  {
   "cell_type": "code",
   "execution_count": 5,
   "metadata": {},
   "outputs": [
    {
     "name": "stdout",
     "output_type": "stream",
     "text": [
      "Nilai Maksimum :  99\n"
     ]
    }
   ],
   "source": [
    "maks=0\n",
    "\n",
    "# membandingkan tiap nilai n pada list nilaiTugas\n",
    "for n in nilaiTugas:\n",
    "    if n > maks:\n",
    "        maks = n\n",
    "\n",
    "# menampilkan nilai maksimum\n",
    "print(\"Nilai Maksimum : \", maks)"
   ]
  },
  {
   "cell_type": "markdown",
   "metadata": {},
   "source": [
    "# Nilai minimum"
   ]
  },
  {
   "cell_type": "code",
   "execution_count": 6,
   "metadata": {},
   "outputs": [
    {
     "name": "stdout",
     "output_type": "stream",
     "text": [
      "Nilai Minimum :  1\n"
     ]
    }
   ],
   "source": [
    "# membandingkan tiap nilai n pada list nilaiTugas\n",
    "for n in nilaiTugas:\n",
    "    if n < maks:\n",
    "        maks = n\n",
    "\n",
    "# menampilkan nilai maksimum\n",
    "print(\"Nilai Minimum : \", maks)"
   ]
  },
  {
   "cell_type": "markdown",
   "metadata": {},
   "source": [
    "# Modus"
   ]
  },
  {
   "cell_type": "code",
   "execution_count": 7,
   "metadata": {},
   "outputs": [
    {
     "name": "stdout",
     "output_type": "stream",
     "text": [
      "Modus pada list nilaiTugas :  59\n"
     ]
    }
   ],
   "source": [
    "maksimal=0\n",
    "\n",
    "# membuat dict kosong\n",
    "modus={}\n",
    "\n",
    "# menghitung tiap elemen pada list nilaiTugas dan menampilkan jumlahnya dengan format dictionary {key:val}\n",
    "for i in nilaiTugas:\n",
    "    count = nilaiTugas.count(i)\n",
    "    modus.update({i:count})\n",
    "\n",
    "# membandingkan jml tiap elemen\n",
    "for key in modus:\n",
    "    if modus[key]>maksimal:\n",
    "        maksimal=modus[key]\n",
    "\n",
    "# menampilkan elemen dengan frekuensi terbanyak\n",
    "for key in modus:\n",
    "    if modus[key]==maksimal:\n",
    "        print(\"Modus pada list nilaiTugas : \", key)"
   ]
  },
  {
   "cell_type": "code",
   "execution_count": null,
   "metadata": {},
   "outputs": [],
   "source": []
  }
 ],
 "metadata": {
  "kernelspec": {
   "display_name": "Python 3",
   "language": "python",
   "name": "python3"
  },
  "language_info": {
   "codemirror_mode": {
    "name": "ipython",
    "version": 3
   },
   "file_extension": ".py",
   "mimetype": "text/x-python",
   "name": "python",
   "nbconvert_exporter": "python",
   "pygments_lexer": "ipython3",
   "version": "3.6.4"
  }
 },
 "nbformat": 4,
 "nbformat_minor": 2
}
