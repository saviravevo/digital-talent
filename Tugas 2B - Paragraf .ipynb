{
 "cells": [
  {
   "cell_type": "markdown",
   "metadata": {},
   "source": [
    "Input"
   ]
  },
  {
   "cell_type": "code",
   "execution_count": 1,
   "metadata": {},
   "outputs": [
    {
     "name": "stdout",
     "output_type": "stream",
     "text": [
      "Barcelona berhasil merebut posisi puncak klasemen La Liga Spanyol seusai menang 4-2 atas Sevilla pada pertandingan pekan kesembilan di Stadion Camp Nou, Sabtu (20/10/2018) atau Minggu dini hari WIB. Barcelona membuka keunggulan pada menit ke-2 melalui gol yang dicetak oleh Philippe Coutinho. Lionel Messi menggandakan keunggulan Barcelona, 10 menit berselang.  Namun, nahas bagi Barcelona, karena Messi harus ditarik keluar pada menit ke-26 setelah mengalami cedera. Tanpa Messi, skor 2-0 bertahan hingga babak pertama berakhir.\n"
     ]
    }
   ],
   "source": [
    "# input paragraf dan menampilkannya\n",
    "paragraf = \"Barcelona berhasil merebut posisi puncak klasemen La Liga Spanyol seusai menang 4-2 atas Sevilla pada pertandingan pekan kesembilan di Stadion Camp Nou, Sabtu (20/10/2018) atau Minggu dini hari WIB. Barcelona membuka keunggulan pada menit ke-2 melalui gol yang dicetak oleh Philippe Coutinho. Lionel Messi menggandakan keunggulan Barcelona, 10 menit berselang.  Namun, nahas bagi Barcelona, karena Messi harus ditarik keluar pada menit ke-26 setelah mengalami cedera. Tanpa Messi, skor 2-0 bertahan hingga babak pertama berakhir.\"\n",
    "print(paragraf)"
   ]
  },
  {
   "cell_type": "markdown",
   "metadata": {},
   "source": [
    "Tokenizing"
   ]
  },
  {
   "cell_type": "code",
   "execution_count": 2,
   "metadata": {},
   "outputs": [
    {
     "name": "stdout",
     "output_type": "stream",
     "text": [
      "['barcelona', 'berhasil', 'merebut', 'posisi', 'puncak', 'klasemen', 'la', 'liga', 'spanyol', 'seusai', 'menang', '4', '2', 'atas', 'sevilla', 'pada', 'pertandingan', 'pekan', 'kesembilan', 'di', 'stadion', 'camp', 'nou', 'sabtu', '20', '10', '2018', 'atau', 'minggu', 'dini', 'hari', 'wib', 'barcelona', 'membuka', 'keunggulan', 'pada', 'menit', 'ke', '2', 'melalui', 'gol', 'yang', 'dicetak', 'oleh', 'philippe', 'coutinho', 'lionel', 'messi', 'menggandakan', 'keunggulan', 'barcelona', '10', 'menit', 'berselang', 'namun', 'nahas', 'bagi', 'barcelona', 'karena', 'messi', 'harus', 'ditarik', 'keluar', 'pada', 'menit', 'ke', '26', 'setelah', 'mengalami', 'cedera', 'tanpa', 'messi', 'skor', '2', '0', 'bertahan', 'hingga', 'babak', 'pertama', 'berakhir']\n"
     ]
    }
   ],
   "source": [
    "# menjadikan paragraf huruf kecil semua\n",
    "hurufkecil = paragraf.lower()\n",
    "\n",
    "# menghapus titik\n",
    "titik = hurufkecil.replace('.',' ')\n",
    "\n",
    "# menghapus koma\n",
    "koma = titik.replace(',', ' ')\n",
    "\n",
    "# menghapus garis miring\n",
    "garing = koma.replace('/', ' ')\n",
    "\n",
    "# menghapus kurung buka\n",
    "kurungb = garing.replace('(', ' ')\n",
    "\n",
    "# menghapus kurung tutup\n",
    "kurungt = kurungb.replace(')',' ')\n",
    "\n",
    "# menghapus strip\n",
    "strip = kurungt.replace('-',' ')\n",
    "\n",
    "# memisahkan tiap kata/tokenizing\n",
    "splitx = strip.split()\n",
    "\n",
    "# menampilkan hasil akhir\n",
    "print(splitx)"
   ]
  },
  {
   "cell_type": "markdown",
   "metadata": {},
   "source": [
    "hitung jumlah kata"
   ]
  },
  {
   "cell_type": "code",
   "execution_count": 3,
   "metadata": {},
   "outputs": [
    {
     "name": "stdout",
     "output_type": "stream",
     "text": [
      "barcelona : 4\n",
      "berhasil : 1\n",
      "merebut : 1\n",
      "posisi : 1\n",
      "puncak : 1\n",
      "klasemen : 1\n",
      "la : 1\n",
      "liga : 1\n",
      "spanyol : 1\n",
      "seusai : 1\n",
      "menang : 1\n",
      "4 : 1\n",
      "2 : 3\n",
      "atas : 1\n",
      "sevilla : 1\n",
      "pada : 3\n",
      "pertandingan : 1\n",
      "pekan : 1\n",
      "kesembilan : 1\n",
      "di : 1\n",
      "stadion : 1\n",
      "camp : 1\n",
      "nou : 1\n",
      "sabtu : 1\n",
      "20 : 1\n",
      "10 : 2\n",
      "2018 : 1\n",
      "atau : 1\n",
      "minggu : 1\n",
      "dini : 1\n",
      "hari : 1\n",
      "wib : 1\n",
      "barcelona : 4\n",
      "membuka : 1\n",
      "keunggulan : 2\n",
      "pada : 3\n",
      "menit : 3\n",
      "ke : 2\n",
      "2 : 3\n",
      "melalui : 1\n",
      "gol : 1\n",
      "yang : 1\n",
      "dicetak : 1\n",
      "oleh : 1\n",
      "philippe : 1\n",
      "coutinho : 1\n",
      "lionel : 1\n",
      "messi : 3\n",
      "menggandakan : 1\n",
      "keunggulan : 2\n",
      "barcelona : 4\n",
      "10 : 2\n",
      "menit : 3\n",
      "berselang : 1\n",
      "namun : 1\n",
      "nahas : 1\n",
      "bagi : 1\n",
      "barcelona : 4\n",
      "karena : 1\n",
      "messi : 3\n",
      "harus : 1\n",
      "ditarik : 1\n",
      "keluar : 1\n",
      "pada : 3\n",
      "menit : 3\n",
      "ke : 2\n",
      "26 : 1\n",
      "setelah : 1\n",
      "mengalami : 1\n",
      "cedera : 1\n",
      "tanpa : 1\n",
      "messi : 3\n",
      "skor : 1\n",
      "2 : 3\n",
      "0 : 1\n",
      "bertahan : 1\n",
      "hingga : 1\n",
      "babak : 1\n",
      "pertama : 1\n",
      "berakhir : 1\n"
     ]
    }
   ],
   "source": [
    "# menghitung jumlah kata\n",
    "for kata in splitx:\n",
    "    jml = splitx.count(kata)\n",
    "    print(kata,\":\", jml)"
   ]
  },
  {
   "cell_type": "markdown",
   "metadata": {},
   "source": [
    "# Jika menggunakan Dictionary"
   ]
  },
  {
   "cell_type": "code",
   "execution_count": 4,
   "metadata": {},
   "outputs": [
    {
     "name": "stdout",
     "output_type": "stream",
     "text": [
      "{'barcelona': 4, 'berhasil': 1, 'merebut': 1, 'posisi': 1, 'puncak': 1, 'klasemen': 1, 'la': 1, 'liga': 1, 'spanyol': 1, 'seusai': 1, 'menang': 1, '4': 1, '2': 3, 'atas': 1, 'sevilla': 1, 'pada': 3, 'pertandingan': 1, 'pekan': 1, 'kesembilan': 1, 'di': 1, 'stadion': 1, 'camp': 1, 'nou': 1, 'sabtu': 1, '20': 1, '10': 2, '2018': 1, 'atau': 1, 'minggu': 1, 'dini': 1, 'hari': 1, 'wib': 1, 'membuka': 1, 'keunggulan': 2, 'menit': 3, 'ke': 2, 'melalui': 1, 'gol': 1, 'yang': 1, 'dicetak': 1, 'oleh': 1, 'philippe': 1, 'coutinho': 1, 'lionel': 1, 'messi': 3, 'menggandakan': 1, 'berselang': 1, 'namun': 1, 'nahas': 1, 'bagi': 1, 'karena': 1, 'harus': 1, 'ditarik': 1, 'keluar': 1, '26': 1, 'setelah': 1, 'mengalami': 1, 'cedera': 1, 'tanpa': 1, 'skor': 1, '0': 1, 'bertahan': 1, 'hingga': 1, 'babak': 1, 'pertama': 1, 'berakhir': 1}\n"
     ]
    }
   ],
   "source": [
    "# menggunakan dictionary kosong yg kemudian diisi kata-kata dalam paragraf \n",
    "dictio = {}\n",
    "\n",
    "# menghitung jumlah dengan perulangan dan kondisional\n",
    "for word in splitx:\n",
    "    if word in dictio:\n",
    "        dictio[word]= dictio[word]+1\n",
    "    else:\n",
    "        dictio[word] = 1\n",
    "print(dictio)"
   ]
  },
  {
   "cell_type": "code",
   "execution_count": null,
   "metadata": {},
   "outputs": [],
   "source": []
  }
 ],
 "metadata": {
  "kernelspec": {
   "display_name": "Python 3",
   "language": "python",
   "name": "python3"
  },
  "language_info": {
   "codemirror_mode": {
    "name": "ipython",
    "version": 3
   },
   "file_extension": ".py",
   "mimetype": "text/x-python",
   "name": "python",
   "nbconvert_exporter": "python",
   "pygments_lexer": "ipython3",
   "version": "3.6.4"
  }
 },
 "nbformat": 4,
 "nbformat_minor": 2
}
